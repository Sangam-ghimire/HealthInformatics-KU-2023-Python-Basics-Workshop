{
 "cells": [
  {
   "attachments": {},
   "cell_type": "markdown",
   "metadata": {},
   "source": [
    "## Hello Seniors, This is me Sangam Ghimire"
   ]
  },
  {
   "attachments": {},
   "cell_type": "markdown",
   "metadata": {},
   "source": [
    "# Data Types\n",
    "    1. Integer\n",
    "    2. Float\n",
    "    3. Complex\n",
    "    4. ....."
   ]
  },
  {
   "attachments": {},
   "cell_type": "markdown",
   "metadata": {},
   "source": [
    "# Integer"
   ]
  },
  {
   "cell_type": "code",
   "execution_count": 2,
   "metadata": {},
   "outputs": [
    {
     "name": "stdout",
     "output_type": "stream",
     "text": [
      "Hello World!\n"
     ]
    }
   ],
   "source": [
    "#Dynamic Typing vs Static Typing && Dynamic Binding vs Static Bindingynamic Typing vs Static Typing \n",
    "#range of integers(arbitrary-precision arithmetic method)\n",
    "#fixed precision vs arbitrary precision on bits level\n",
    "#print(1e308) \"One followed by 307 zeros\" jarvis"
   ]
  },
  {
   "cell_type": "code",
   "execution_count": 22,
   "metadata": {},
   "outputs": [
    {
     "name": "stdout",
     "output_type": "stream",
     "text": [
      "2000000000000000000000000000000000000000000000000000000000000000000000000000000000000000000000000000000000000000000000000000000000000000000000000000000000000\n"
     ]
    }
   ],
   "source": [
    "ram=10000000000000000000000000000000000000000000000000000000000000000000000000000000\n",
    "shyam=200000000000000000000000000000000000000000000000000000000000000000000000000000\n",
    "print(ram * shyam)"
   ]
  },
  {
   "cell_type": "code",
   "execution_count": 21,
   "metadata": {},
   "outputs": [
    {
     "name": "stdout",
     "output_type": "stream",
     "text": [
      "1e+308\n",
      "inf\n"
     ]
    }
   ],
   "source": [
    "print(1e308)\n",
    "print (1e309)"
   ]
  },
  {
   "attachments": {},
   "cell_type": "markdown",
   "metadata": {},
   "source": [
    "# Float"
   ]
  },
  {
   "cell_type": "code",
   "execution_count": 3,
   "metadata": {},
   "outputs": [
    {
     "name": "stdout",
     "output_type": "stream",
     "text": [
      "Hello World!\n"
     ]
    }
   ],
   "source": [
    "#range of floating point numbers\n",
    "#floats are represented as binary fractions\n",
    "#sign bit, exponent, fraction bit\n",
    "#Type conversion\n"
   ]
  },
  {
   "cell_type": "code",
   "execution_count": 32,
   "metadata": {},
   "outputs": [
    {
     "name": "stdout",
     "output_type": "stream",
     "text": [
      "<class 'float'>\n",
      "<class 'float'>\n",
      "1.7e+308\n",
      "inf\n"
     ]
    }
   ],
   "source": [
    "zeros=0.0\n",
    "print(type(zeros))\n",
    "\n",
    "raghib = -1.0\n",
    "print(type(raghib))\n",
    "\n",
    "print(1.7e308)\n",
    "print(1.0e309)"
   ]
  },
  {
   "attachments": {},
   "cell_type": "markdown",
   "metadata": {},
   "source": [
    "# Complex"
   ]
  },
  {
   "cell_type": "code",
   "execution_count": 36,
   "metadata": {},
   "outputs": [
    {
     "name": "stdout",
     "output_type": "stream",
     "text": [
      "['False', 'None', 'True', 'and', 'as', 'assert', 'async', 'await', 'break', 'class', 'continue', 'def', 'del', 'elif', 'else', 'except', 'finally', 'for', 'from', 'global', 'if', 'import', 'in', 'is', 'lambda', 'nonlocal', 'not', 'or', 'pass', 'raise', 'return', 'try', 'while', 'with', 'yield']\n"
     ]
    }
   ],
   "source": [
    "# # x=6+5j\n",
    "# # print(x)\n",
    "# # print(type(x))\n",
    "# # print(x.real)\n",
    "# # print(x.imag)\n",
    "\n",
    "# z=6+5j\n",
    "# print(type(z))\n",
    "\n",
    "# print(z.real)\n",
    "# print(z.imag)\n",
    "import keyword\n",
    "print(keyword.kwlist)\n"
   ]
  },
  {
   "attachments": {},
   "cell_type": "markdown",
   "metadata": {},
   "source": [
    "# Boolean"
   ]
  },
  {
   "cell_type": "code",
   "execution_count": 45,
   "metadata": {},
   "outputs": [
    {
     "name": "stdout",
     "output_type": "stream",
     "text": [
      "True\n"
     ]
    }
   ],
   "source": [
    "# a=\"True\"\n",
    "\n",
    "# print(a)\n",
    "# print(type(a))\n",
    "# #print(\"True\")\n",
    "# print(True)\n",
    "# print(False)\n",
    "# print(type(True))\n",
    "\n",
    "bull= \"srilanka\" > \"india\"\n",
    "print(bull)"
   ]
  },
  {
   "attachments": {},
   "cell_type": "markdown",
   "metadata": {},
   "source": [
    "# String"
   ]
  },
  {
   "cell_type": "code",
   "execution_count": 49,
   "metadata": {},
   "outputs": [
    {
     "name": "stdout",
     "output_type": "stream",
     "text": [
      "['False', 'None', 'True', 'and', 'as', 'assert', 'async', 'await', 'break', 'class', 'continue', 'def', 'del', 'elif', 'else', 'except', 'finally', 'for', 'from', 'global', 'if', 'import', 'in', 'is', 'lambda', 'nonlocal', 'not', 'or', 'pass', 'raise', 'return', 'try', 'while', 'with', 'yield']\n",
      "ram\n"
     ]
    }
   ],
   "source": [
    "# \"\"\"This is a multiline comment\"\"\"\n",
    "#unicode 'u'\n",
    "#rawstring 'r'\n",
    "#special literal \"None\"\n",
    "import keyword\n",
    "print(keyword.kwlist)\n",
    "\n",
    "#Assigning a keyword\n",
    "_=\"ram\"\n",
    "print(_)"
   ]
  },
  {
   "cell_type": "code",
   "execution_count": 55,
   "metadata": {},
   "outputs": [
    {
     "ename": "ValueError",
     "evalue": "invalid literal for int() with base 10: 'sangam'",
     "output_type": "error",
     "traceback": [
      "\u001b[0;31m---------------------------------------------------------------------------\u001b[0m",
      "\u001b[0;31mValueError\u001b[0m                                Traceback (most recent call last)",
      "Cell \u001b[0;32mIn[55], line 1\u001b[0m\n\u001b[0;32m----> 1\u001b[0m facebook_id\u001b[39m=\u001b[39m\u001b[39mint\u001b[39;49m(\u001b[39minput\u001b[39;49m(\u001b[39m\"\u001b[39;49m\u001b[39mGive me your facebook id!!\u001b[39;49m\u001b[39m\"\u001b[39;49m))\n\u001b[1;32m      2\u001b[0m \u001b[39mprint\u001b[39m(facebook_id)\n\u001b[1;32m      3\u001b[0m \u001b[39mprint\u001b[39m(\u001b[39mtype\u001b[39m(facebook_id))\n",
      "\u001b[0;31mValueError\u001b[0m: invalid literal for int() with base 10: 'sangam'"
     ]
    }
   ],
   "source": [
    "facebook_id=int(input(\"Give me your facebook id!!\"))\n",
    "\n",
    "print(facebook_id)\n",
    "print(type(facebook_id))"
   ]
  },
  {
   "cell_type": "code",
   "execution_count": 8,
   "metadata": {},
   "outputs": [
    {
     "name": "stdout",
     "output_type": "stream",
     "text": [
      "88\n"
     ]
    }
   ],
   "source": [
    "#shift tab to see the documentation\n",
    "\n",
    "# a=input(\"Enter first number: \")\n",
    "# b=input(\"Enter second number: \")\n",
    "# print(a+b)  #string is a universal format\n",
    "\n",
    "#Write a program to add two number\n",
    "    1.input a\n",
    "    2. input b\n",
    "    3. add a and b"
   ]
  },
  {
   "attachments": {},
   "cell_type": "markdown",
   "metadata": {},
   "source": [
    "# Common Functions\n",
    "\n",
    "   <ul> len,\n",
    "    max,\n",
    "    min,\n",
    "    sorted </ul>\n",
    "   <ul>1. Capitalize/Title/Upper/Lower/Swapcase</ul>\n",
    "\n"
   ]
  },
  {
   "cell_type": "code",
   "execution_count": 66,
   "metadata": {},
   "outputs": [
    {
     "name": "stdout",
     "output_type": "stream",
     "text": [
      "!\n"
     ]
    }
   ],
   "source": [
    "# name=\"Ram Is A King\"\n",
    "# print(name.upper())\n",
    "# print(name.title())\n",
    "# print(name.lower())\n",
    "# print(name.swapcase())\n",
    "\n",
    "a = \"Hello, World!\"\n",
    "#print(a)\n",
    "print(a[-1])"
   ]
  },
  {
   "cell_type": "code",
   "execution_count": 69,
   "metadata": {},
   "outputs": [
    {
     "name": "stdout",
     "output_type": "stream",
     "text": [
      "98 ghimire\n"
     ]
    }
   ],
   "source": [
    "first_name = str(input(\"Enter your first name: \"))\n",
    "last_name = str(input(\"Enter your last name: \"))\n",
    "\n",
    "full_name=first_name +\" \"+ last_name\n",
    "\n",
    "print(full_name)"
   ]
  }
 ],
 "metadata": {
  "kernelspec": {
   "display_name": ".venv",
   "language": "python",
   "name": "python3"
  },
  "language_info": {
   "codemirror_mode": {
    "name": "ipython",
    "version": 3
   },
   "file_extension": ".py",
   "mimetype": "text/x-python",
   "name": "python",
   "nbconvert_exporter": "python",
   "pygments_lexer": "ipython3",
   "version": "3.10.6"
  },
  "orig_nbformat": 4
 },
 "nbformat": 4,
 "nbformat_minor": 2
}
