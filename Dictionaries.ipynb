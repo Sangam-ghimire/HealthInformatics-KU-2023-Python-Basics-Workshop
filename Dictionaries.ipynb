{
 "cells": [
  {
   "attachments": {},
   "cell_type": "markdown",
   "metadata": {},
   "source": [
    "## Dictionaries\n"
   ]
  },
  {
   "attachments": {},
   "cell_type": "markdown",
   "metadata": {},
   "source": [
    "1. Dictionaries are used to store data values in key:value pairs.\n",
    "\n",
    "2. A dictionary is a collection which is ordered*, changeable and do not allow duplicates.\n",
    "        (* as of version 3.7,earlier are unordered)"
   ]
  },
  {
   "attachments": {},
   "cell_type": "markdown",
   "metadata": {},
   "source": [
    "Rules:\n",
    "    1. No indexing {uses key to acess}\n",
    "    2. Is a mutable data type**\n",
    "    3. keys should be unique\n",
    "    4. ** keys-> immuatable, values -> can be any data type(mutable or immutable )\n"
   ]
  },
  {
   "cell_type": "code",
   "execution_count": 18,
   "metadata": {},
   "outputs": [
    {
     "name": "stdout",
     "output_type": "stream",
     "text": [
      "2\n"
     ]
    }
   ],
   "source": [
    "home={\n",
    "    \"key1\":\"Room1\",\n",
    "    \"key2\":\"Room2\",\n",
    "    \"key3\":\"Room3\"\n",
    "}\n",
    "home2={\n",
    "    \"key1\":[1,2],\n",
    "    \"key2\":\"Room2\",\n",
    "    \"key3\":\"Room3\",\n",
    "    \"key4\":('a','b')\n",
    "}\n",
    "# print(home)\n",
    "# print(home2)\n",
    "# print(type(home))\n",
    "\n",
    "print(home2[\"key1\"][1])\n"
   ]
  },
  {
   "cell_type": "code",
   "execution_count": 12,
   "metadata": {},
   "outputs": [
    {
     "name": "stdout",
     "output_type": "stream",
     "text": [
      "{'brand': 'Ford', 'model': 'Mustang', 'year': 1964}\n",
      "{'brand': 'Ford', 'model': 'Mustang', 'year': 1964, 'color': 'red'}\n"
     ]
    }
   ],
   "source": [
    "thisdict =\t{\n",
    "  \"brand\": \"Ford\",\n",
    "  \"model\": \"Mustang\",\n",
    "  \"year\": 2020,\n",
    "  \"year\": 1964\n",
    "}\n",
    "print(thisdict)\n",
    "#adding new key value pair\n",
    "thisdict[\"color\"] = \"red\" \n",
    "# thisdict.add(\"color\",\"blue\")\n",
    "print(thisdict)"
   ]
  },
  {
   "cell_type": "code",
   "execution_count": 7,
   "metadata": {},
   "outputs": [
    {
     "name": "stdout",
     "output_type": "stream",
     "text": [
      "Ford\n"
     ]
    }
   ],
   "source": [
    "print(thisdict[\"brand\"])"
   ]
  },
  {
   "cell_type": "code",
   "execution_count": 23,
   "metadata": {},
   "outputs": [
    {
     "name": "stdout",
     "output_type": "stream",
     "text": [
      "{'name': 'Tobias', 'year': 2007}\n",
      "Tobias\n",
      "{'child1': {'name': 'Emil', 'year': 2004}, 'child2': {'name': 'Tobias', 'year': 2007, 'uni': 'KU'}, 'child3': {'name': 'Linus', 'year': 2011}}\n"
     ]
    }
   ],
   "source": [
    "# thisdict =\t{\n",
    "#   \"brand\": \"Ford\",\n",
    "#   \"electric\": False,\n",
    "#   \"year\": 1964,\n",
    "#   \"colors\": [\"red\", \"white\", \"blue\"]\n",
    "# } \n",
    "type(thisdict)\n",
    "#allows any data type to be used as a values\n",
    "child1 = {\n",
    "  \"name\" : \"Emil\",\n",
    "  \"year\" : 2004\n",
    "}\n",
    "child2 = {\n",
    "  \"name\" : \"Tobias\",\n",
    "  \"year\" : 2007\n",
    "}\n",
    "child3 = {\n",
    "  \"name\" : \"Linus\",\n",
    "  \"year\" : 2011\n",
    "}\n",
    "\n",
    "myfamily = {\n",
    "  \"child1\" : child1,\n",
    "  \"child2\" : child2,\n",
    "  \"child3\" : child3\n",
    "}\n",
    "# print(myfamily)\n",
    "#concatenation ???\n",
    "print(myfamily[\"child2\"])\n",
    "print(myfamily[\"child2\"][\"name\"]) \n",
    "myfamily[\"child2\"][\"uni\"] = \"KU\"\n",
    "print(myfamily)"
   ]
  },
  {
   "cell_type": "code",
   "execution_count": 13,
   "metadata": {},
   "outputs": [
    {
     "name": "stdout",
     "output_type": "stream",
     "text": [
      "child1 {'name': 'Emil', 'year': 2004}\n",
      "child2 {'name': 'Tobias', 'year': 2007, 'uni': 'KU'}\n",
      "child3 {'name': 'Linus', 'year': 2011}\n"
     ]
    }
   ],
   "source": [
    "for i in myfamily:\n",
    "    #print(i)\n",
    "    print(i,myfamily[i])\n",
    "#how to visualize?"
   ]
  }
 ],
 "metadata": {
  "kernelspec": {
   "display_name": ".venv",
   "language": "python",
   "name": "python3"
  },
  "language_info": {
   "codemirror_mode": {
    "name": "ipython",
    "version": 3
   },
   "file_extension": ".py",
   "mimetype": "text/x-python",
   "name": "python",
   "nbconvert_exporter": "python",
   "pygments_lexer": "ipython3",
   "version": "3.10.6"
  },
  "orig_nbformat": 4
 },
 "nbformat": 4,
 "nbformat_minor": 2
}
