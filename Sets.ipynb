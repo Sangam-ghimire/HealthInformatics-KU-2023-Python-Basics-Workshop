{
 "cells": [
  {
   "attachments": {},
   "cell_type": "markdown",
   "metadata": {},
   "source": [
    "## sets"
   ]
  },
  {
   "attachments": {},
   "cell_type": "markdown",
   "metadata": {},
   "source": [
    "Only 4 rules\n",
    "1. No duplicates\n",
    "2. No indexing/slicing (hashing)\n",
    "3. Doesn't allow mutable data types\n",
    "4. Is a mutable data type\n",
    "\n",
    "what is mutability?\n",
    "can set be inserted inside a set?\n",
    "can we add items? can we remove items? can we pop? how do we access sets item?"
   ]
  },
  {
   "cell_type": "code",
   "execution_count": 6,
   "metadata": {},
   "outputs": [
    {
     "name": "stdout",
     "output_type": "stream",
     "text": [
      "<class 'set'>\n"
     ]
    }
   ],
   "source": [
    "# s={}\n",
    "# print(type(s))\n",
    "\n",
    "# s1=set()\n",
    "# print(type(s1))\n",
    "\n",
    "s=set()\n",
    "print(type(s))"
   ]
  },
  {
   "attachments": {},
   "cell_type": "markdown",
   "metadata": {},
   "source": [
    "## Hashing"
   ]
  },
  {
   "cell_type": "code",
   "execution_count": 15,
   "metadata": {},
   "outputs": [
    {
     "name": "stdout",
     "output_type": "stream",
     "text": [
      "{1, 11}\n",
      "{1, 2, 3, 4, 5, 6, 7, 8, 9, 10, (1, 2), 'hasattr', 'getattr', 'delattr', 'setattr'}\n"
     ]
    }
   ],
   "source": [
    "set2={1,1,1,1,11}\n",
    "print(set2)\n",
    "set1={1,2,3,4,5,6,7,8,9,10,(1,2),\"hasattr\",\"getattr\",\"setattr\",\"delattr\"}\n",
    "\n",
    "\n",
    "print(set1)\n"
   ]
  },
  {
   "attachments": {},
   "cell_type": "markdown",
   "metadata": {},
   "source": [
    "# Editing"
   ]
  },
  {
   "cell_type": "code",
   "execution_count": 19,
   "metadata": {},
   "outputs": [
    {
     "name": "stdout",
     "output_type": "stream",
     "text": [
      "{1, 2, 3, 4, 5, 6, 7, 8, 9, 10}\n",
      "140197468066240\n",
      "[1, 2, 3, 4, 5, 6, 7, 8, 9, 10]\n",
      "140197466484928\n",
      "[100, 2, 3, 4, 5, 6, 7, 8, 9, 10]\n",
      "140197468064896\n"
     ]
    }
   ],
   "source": [
    "S1={1,2,3,4,5,6,7,8,9,10}\n",
    "print(S1)\n",
    "print(id(S1))\n",
    "\n",
    "List=list(S1)\n",
    "print(List)\n",
    "print(id(List))\n",
    "\n",
    "List[0]=100\n",
    "print(List)\n",
    "\n",
    "S1=set(List)\n",
    "print(id(S1))"
   ]
  },
  {
   "cell_type": "code",
   "execution_count": 27,
   "metadata": {},
   "outputs": [
    {
     "name": "stdout",
     "output_type": "stream",
     "text": [
      "{1, 2, 'banana', 'cherry', 'apple'}\n",
      "{1, 2, 'banana', 'orange', 'cherry', 'apple', 'orangerrrr'}\n",
      "{1, 2, 'orange', 'cherry', 'apple', 'orangerrrr'}\n"
     ]
    }
   ],
   "source": [
    "thisset = {\"apple\", \"banana\", \"cherry\",1,True, 2}\n",
    "\n",
    "print(thisset)\n",
    "\n",
    "# thisset[0]=\"ram\"\n",
    "# print(thisset)\n",
    "thisset.add(\"orange\")\n",
    "thisset.add(\"orangerrrr\")\n",
    "print(thisset)\n",
    "thisset.remove(\"banana\")\n",
    "print(thisset)"
   ]
  },
  {
   "cell_type": "code",
   "execution_count": 32,
   "metadata": {},
   "outputs": [
    {
     "name": "stdout",
     "output_type": "stream",
     "text": [
      "{1, 2, 3, 'c', 'a', 'b'}\n",
      "{'b', 'a', 1}\n"
     ]
    }
   ],
   "source": [
    "set1 = {\"a\", \"b\" , \"c\",1}\n",
    "set2 = {1, 2, 3,\"a\",\"b\"}\n",
    "\n",
    "set3 = set1.union(set2)\n",
    "set4 = set1.intersection(set2)\n",
    "print(set3) \n",
    "print(set4)"
   ]
  }
 ],
 "metadata": {
  "kernelspec": {
   "display_name": ".venv",
   "language": "python",
   "name": "python3"
  },
  "language_info": {
   "codemirror_mode": {
    "name": "ipython",
    "version": 3
   },
   "file_extension": ".py",
   "mimetype": "text/x-python",
   "name": "python",
   "nbconvert_exporter": "python",
   "pygments_lexer": "ipython3",
   "version": "3.10.6"
  },
  "orig_nbformat": 4
 },
 "nbformat": 4,
 "nbformat_minor": 2
}
