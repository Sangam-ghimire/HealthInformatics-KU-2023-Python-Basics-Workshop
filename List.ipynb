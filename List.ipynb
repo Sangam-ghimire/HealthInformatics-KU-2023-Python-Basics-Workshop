{
 "cells": [
  {
   "attachments": {},
   "cell_type": "markdown",
   "metadata": {},
   "source": [
    "# List\n",
    "    1. What is a list?\n",
    "    2. List vs array? heterogeneous vs homogeneous\n",
    "    3. Create, Access, Edit, Add, Delete, Operations and built in functions   "
   ]
  },
  {
   "cell_type": "code",
   "execution_count": null,
   "metadata": {},
   "outputs": [],
   "source": [
    "# multi dimensional list (Heterogenous or not)\n",
    "# list() function, empty list"
   ]
  },
  {
   "cell_type": "code",
   "execution_count": 40,
   "metadata": {},
   "outputs": [
    {
     "name": "stdout",
     "output_type": "stream",
     "text": [
      "[]\n",
      "<class 'list'>\n",
      "[10]\n",
      "[10, 20, 30, 40]\n",
      "[10, 15, 20, 30, 40]\n",
      "[10, 15, 20, 15, 30, 40]\n",
      "[10, 20, 15, 30, 40]\n"
     ]
    }
   ],
   "source": [
    "ram=[]\n",
    "print(ram)\n",
    "print(type(ram))\n",
    "\n",
    "ram.append(10)\n",
    "print(ram)\n",
    "ram.extend([20,30,40])\n",
    "print(ram)\n",
    "ram.insert(1,15)\n",
    "print(ram)\n",
    "ram.insert(3,15)\n",
    "print(ram)\n",
    "ram.remove(15)\n",
    "print(ram)\n"
   ]
  },
  {
   "cell_type": "code",
   "execution_count": 45,
   "metadata": {},
   "outputs": [
    {
     "name": "stdout",
     "output_type": "stream",
     "text": [
      "5\n",
      "[1, 2, 3, [4, 5, 6], 8]\n",
      "[4, 5, 6]\n",
      "5\n",
      "5\n"
     ]
    }
   ],
   "source": [
    "L1=[4,5,6]\n",
    "L2=[1,2,3,L1,8]\n",
    "x=L1[-2]\n",
    "print(x)\n",
    "print(L2)\n",
    "print(L2[3])\n",
    "\n",
    "y=L2[3]\n",
    "print(y[1])\n",
    "print(L2[3][1])"
   ]
  },
  {
   "attachments": {},
   "cell_type": "markdown",
   "metadata": {},
   "source": [
    "Add\n",
    "Append (add one to last),\n",
    "extend (add multiple items to last),\n",
    "insert (),"
   ]
  },
  {
   "cell_type": "code",
   "execution_count": 52,
   "metadata": {},
   "outputs": [
    {
     "name": "stdout",
     "output_type": "stream",
     "text": [
      "[1, 2, 3, 4, 5, 1, 2, 3, 4, 5, 1, 2, 3, 4, 5]\n",
      "How are you doing ? 1\n"
     ]
    }
   ],
   "source": [
    "L1=[1,2,3,4,5]\n",
    "# L2=['a','b','c','d','e']\n",
    "# print(L1)\n",
    "# print(type(L2))\n",
    "# L3=L1.append([567])\n",
    "# print(L1)\n",
    "# L4=L1.extend(L2)\n",
    "# print(L2)\n",
    "# print(L3)\n",
    "# print(L4)\n",
    "# #permanent vs temporary\n",
    "\n",
    "print (L1 * 3)\n",
    "\n",
    "#How to read error messages?\n",
    "# print(L1)\n",
    "# print(\" \".join(L1))\n",
    "\n",
    "l=[\"How\",\"are\",\"you\",\"doing\",\"?\",\"1\"]\n",
    "print(\" \".join(l))\n"
   ]
  },
  {
   "cell_type": "markdown",
   "metadata": {},
   "source": [
    "### Delete\n",
    "del-> either a portion or entire list\n",
    "remove -> when index postion is not known, but exists \n",
    "pop -> removes from last item\n",
    "clear -> makes the list empty"
   ]
  },
  {
   "attachments": {},
   "cell_type": "markdown",
   "metadata": {},
   "source": [
    "# indexing and slicing \n"
   ]
  },
  {
   "cell_type": "code",
   "execution_count": 56,
   "metadata": {},
   "outputs": [
    {
     "name": "stdout",
     "output_type": "stream",
     "text": [
      "Nirja\n",
      "letruhB lajriN\n"
     ]
    }
   ],
   "source": [
    "name = str(input(\"Name:\"))\n",
    "# Take your surname only\n",
    "print(name[0:5:1])\n",
    "print(name[::-1])"
   ]
  },
  {
   "attachments": {},
   "cell_type": "markdown",
   "metadata": {},
   "source": [
    "# Immutability in String\n"
   ]
  },
  {
   "cell_type": "code",
   "execution_count": 58,
   "metadata": {},
   "outputs": [
    {
     "ename": "TypeError",
     "evalue": "'str' object does not support item assignment",
     "output_type": "error",
     "traceback": [
      "\u001b[0;31m---------------------------------------------------------------------------\u001b[0m",
      "\u001b[0;31mTypeError\u001b[0m                                 Traceback (most recent call last)",
      "Cell \u001b[0;32mIn[58], line 1\u001b[0m\n\u001b[0;32m----> 1\u001b[0m name[\u001b[39m0\u001b[39;49m] \u001b[39m=\u001b[39m \u001b[39m\"\u001b[39m\u001b[39mP\u001b[39m\u001b[39m\"\u001b[39m \n\u001b[1;32m      3\u001b[0m \u001b[39m# For this Let's concatenate two strings\u001b[39;00m\n\u001b[1;32m      5\u001b[0m name2 \u001b[39m=\u001b[39m name[\u001b[39m1\u001b[39m::]\n",
      "\u001b[0;31mTypeError\u001b[0m: 'str' object does not support item assignment"
     ]
    }
   ],
   "source": [
    "name[0] = \"P\" \n",
    "\n",
    "# For this Let's concatenate two strings\n",
    "\n",
    "name2 = name[1::]\n"
   ]
  },
  {
   "cell_type": "markdown",
   "metadata": {},
   "source": []
  }
 ],
 "metadata": {
  "kernelspec": {
   "display_name": ".venv",
   "language": "python",
   "name": "python3"
  },
  "language_info": {
   "codemirror_mode": {
    "name": "ipython",
    "version": 3
   },
   "file_extension": ".py",
   "mimetype": "text/x-python",
   "name": "python",
   "nbconvert_exporter": "python",
   "pygments_lexer": "ipython3",
   "version": "3.10.6"
  },
  "orig_nbformat": 4
 },
 "nbformat": 4,
 "nbformat_minor": 2
}
