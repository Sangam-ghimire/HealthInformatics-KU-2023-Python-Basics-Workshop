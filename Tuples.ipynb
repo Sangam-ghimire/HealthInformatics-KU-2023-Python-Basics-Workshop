{
 "cells": [
  {
   "attachments": {},
   "cell_type": "markdown",
   "metadata": {},
   "source": [
    "Create,edit,access,delete,operations,functions\n",
    "homogeneous, heterogenous, multi-d ,single item vs multi-item\n",
    "#readOnly (integrity)"
   ]
  },
  {
   "cell_type": "code",
   "execution_count": 11,
   "metadata": {},
   "outputs": [
    {
     "data": {
      "text/plain": [
       "tuple"
      ]
     },
     "execution_count": 11,
     "metadata": {},
     "output_type": "execute_result"
    }
   ],
   "source": [
    "t=()\n",
    "type(t)\n",
    "# t1=(1)\n",
    "# type(t1)\n",
    "# t2=(1,)\n",
    "# type(t2)"
   ]
  },
  {
   "cell_type": "code",
   "execution_count": 10,
   "metadata": {},
   "outputs": [
    {
     "name": "stdout",
     "output_type": "stream",
     "text": [
      "('K', 'a', 't', 'h', 'm')\n",
      "('u', 'd', 'n', 'a', 'm', 'h', 't', 'a', 'K')\n"
     ]
    }
   ],
   "source": [
    "# ram=()\n",
    "# print(type(ram))\n",
    "# shyam=[\"a\",\"binod\",\"c\"]\n",
    "# print(type(shyam))\n",
    "\n",
    "# ram=(\"a\",\"binod\",\"c\")\n",
    "# print(type(ram))\n",
    "\n",
    "# print(shyam[0])\n",
    "# shyam[0]=\"d\"\n",
    "\n",
    "# print(shyam[0])\n",
    "\n",
    "\n",
    "# ram[0]=\"d\"\n",
    "# print(ram[0])\n",
    "\n",
    "name = tuple(str(input(\"Name:\")))\n",
    "# Take your surname only\n",
    "print(name[0:5:1])\n",
    "print(name[::-1])\n",
    "\n",
    "\n",
    "\n"
   ]
  }
 ],
 "metadata": {
  "kernelspec": {
   "display_name": ".venv",
   "language": "python",
   "name": "python3"
  },
  "language_info": {
   "codemirror_mode": {
    "name": "ipython",
    "version": 3
   },
   "file_extension": ".py",
   "mimetype": "text/x-python",
   "name": "python",
   "nbconvert_exporter": "python",
   "pygments_lexer": "ipython3",
   "version": "3.10.6"
  },
  "orig_nbformat": 4
 },
 "nbformat": 4,
 "nbformat_minor": 2
}
